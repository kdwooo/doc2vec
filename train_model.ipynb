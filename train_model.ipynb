{
  "nbformat": 4,
  "nbformat_minor": 0,
  "metadata": {
    "colab": {
      "name": "train_model.ipynb",
      "provenance": [],
      "private_outputs": true,
      "authorship_tag": "ABX9TyN7EmxrgLuzgL6Za91h7pZu",
      "include_colab_link": true
    },
    "kernelspec": {
      "name": "python3",
      "display_name": "Python 3"
    }
  },
  "cells": [
    {
      "cell_type": "markdown",
      "metadata": {
        "id": "view-in-github",
        "colab_type": "text"
      },
      "source": [
        "<a href=\"https://colab.research.google.com/github/kdwooo/doc2vec/blob/master/train_model.ipynb\" target=\"_parent\"><img src=\"https://colab.research.google.com/assets/colab-badge.svg\" alt=\"Open In Colab\"/></a>"
      ]
    },
    {
      "cell_type": "code",
      "metadata": {
        "id": "2hfupcyrldDT",
        "colab_type": "code",
        "colab": {}
      },
      "source": [
        "import gensim.models as g\n",
        "import logging"
      ],
      "execution_count": 0,
      "outputs": []
    },
    {
      "cell_type": "code",
      "metadata": {
        "id": "jsfubfvbmBfv",
        "colab_type": "code",
        "colab": {}
      },
      "source": [
        "#doc2vec parameters\n",
        "vector_size = 300\n",
        "window_size = 15\n",
        "min_count = 1\n",
        "sampling_threshold = 1e-5\n",
        "negative_size = 5\n",
        "train_epoch = 100\n",
        "dm = 0 #0 = dbow; 1 = dmpv\n",
        "worker_count = 1 #number of parallel processes"
      ],
      "execution_count": 0,
      "outputs": []
    },
    {
      "cell_type": "code",
      "metadata": {
        "id": "cBZANqNemEUs",
        "colab_type": "code",
        "colab": {}
      },
      "source": [
        "#pretrained word embeddings\n",
        "pretrained_emb = \"toy_data/pretrained_word_embeddings.txt\" #None if use without pretrained embeddings\n"
      ],
      "execution_count": 0,
      "outputs": []
    },
    {
      "cell_type": "code",
      "metadata": {
        "id": "s0kJF5pKmGmE",
        "colab_type": "code",
        "colab": {}
      },
      "source": [
        "#input corpus\n",
        "train_corpus = \"toy_data/train_docs.txt\""
      ],
      "execution_count": 0,
      "outputs": []
    },
    {
      "cell_type": "code",
      "metadata": {
        "id": "CfPyqIv7mIim",
        "colab_type": "code",
        "colab": {}
      },
      "source": [
        "#output model\n",
        "saved_path = \"toy_data/model.bin\""
      ],
      "execution_count": 0,
      "outputs": []
    },
    {
      "cell_type": "code",
      "metadata": {
        "id": "DhAlG8EhmKJt",
        "colab_type": "code",
        "colab": {}
      },
      "source": [
        "#enable logging\n",
        "logging.basicConfig(format='%(asctime)s : %(levelname)s : %(message)s', level=logging.INFO)"
      ],
      "execution_count": 0,
      "outputs": []
    },
    {
      "cell_type": "code",
      "metadata": {
        "id": "MfdhnOObmOPW",
        "colab_type": "code",
        "colab": {}
      },
      "source": [
        "from google.colab import drive\n",
        "drive.mount('./MyDrive')\n",
        "\n"
      ],
      "execution_count": 0,
      "outputs": []
    },
    {
      "cell_type": "code",
      "metadata": {
        "id": "E12Q2bfXmpDQ",
        "colab_type": "code",
        "colab": {}
      },
      "source": [
        "cd MyDrive/My Drive"
      ],
      "execution_count": 0,
      "outputs": []
    },
    {
      "cell_type": "code",
      "metadata": {
        "id": "nx47Rs7JmpG4",
        "colab_type": "code",
        "colab": {}
      },
      "source": [
        "cd ./coLab/sourceTest/doc2vec"
      ],
      "execution_count": 0,
      "outputs": []
    },
    {
      "cell_type": "code",
      "metadata": {
        "id": "sLnbFQqtmMO7",
        "colab_type": "code",
        "colab": {}
      },
      "source": [
        "#train doc2vec model\n",
        "docs = g.doc2vec.TaggedLineDocument(train_corpus)\n",
        "model = g.Doc2Vec(docs, size=vector_size, window=window_size, min_count=min_count, sample=sampling_threshold, workers=worker_count, hs=0, dm=dm, negative=negative_size, dbow_words=1, dm_concat=1, pretrained_emb=pretrained_emb, iter=train_epoch)\n"
      ],
      "execution_count": 0,
      "outputs": []
    }
  ]
}